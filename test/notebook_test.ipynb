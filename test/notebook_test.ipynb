{
 "cells": [
  {
   "cell_type": "code",
   "execution_count": 1,
   "metadata": {
    "tags": []
   },
   "outputs": [],
   "source": [
    "# Import beth dependencies\n",
    "import os\n",
    "from reV import TESTDATADIR\n",
    "from reV.config.project_points import ProjectPoints\n",
    "from reV.generation.generation import Gen\n",
    "import numpy as np\n",
    "import pandas as pd\n",
    "import xarray as xr\n",
    "import tables as tb\n",
    "import intake\n",
    "import importlib\n",
    "import sys\n",
    "from xclim.indices import uas_vas_2_sfcwind\n",
    "from xclim.core.units import convert_units_to\n",
    "import math\n",
    "from pandas import HDFStore\n",
    "import wrf\n",
    "from math import log,cos,sin,tan,fabs,radians\n",
    "import dask.dataframe as dd\n",
    "import logging\n",
    "import boto3\n",
    "from botocore.exceptions import ClientError\n",
    "import os\n",
    "import datetime"
   ]
  },
  {
   "cell_type": "code",
   "execution_count": null,
   "metadata": {},
   "outputs": [],
   "source": [
    "# Make a dummy xarray object \n",
    "data_np = np.arange(0,10,1)\n",
    "da = xr.DataArray(data_np, coords={\"x\":np.arange(0,10,1)})\n",
    "print(\"xr.DataArray: {0}\".format(da))"
   ]
  }
 ],
 "metadata": {
  "kernelspec": {
   "display_name": "Python 3 (ipykernel)",
   "language": "python",
   "name": "python3"
  },
  "language_info": {
   "codemirror_mode": {
    "name": "ipython",
    "version": 3
   },
   "file_extension": ".py",
   "mimetype": "text/x-python",
   "name": "python",
   "nbconvert_exporter": "python",
   "pygments_lexer": "ipython3",
   "version": "3.9.17"
  }
 },
 "nbformat": 4,
 "nbformat_minor": 4
}
